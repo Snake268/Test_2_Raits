{
  "nbformat": 4,
  "nbformat_minor": 0,
  "metadata": {
    "colab": {
      "provenance": []
    },
    "kernelspec": {
      "name": "python3",
      "display_name": "Python 3"
    },
    "language_info": {
      "name": "python"
    }
  },
  "cells": [
    {
      "cell_type": "code",
      "execution_count": null,
      "metadata": {
        "colab": {
          "base_uri": "https://localhost:8080/"
        },
        "id": "Ng0Ud_HJYLuB",
        "outputId": "0f67376b-659e-4d65-cebf-58e37ed59837"
      },
      "outputs": [
        {
          "output_type": "stream",
          "name": "stdout",
          "text": [
            "Обычный шоколадный батончик\n",
            "Шоколадный батончик, добавка: карамель\n",
            "Шоколадный батончик, добавка: орехи\n",
            "Шоколадный батончик, 50.0 рублей\n",
            "Шоколадный батончик, 75.5 рублей\n",
            "Шоколадный батончик, 99.9 рублей\n"
          ]
        }
      ],
      "source": [
        "class Chocolate:\n",
        "    def __init__(self, price: float, additive: str = None):\n",
        "        # Проверяем, что цена больше 0\n",
        "        if price <= 0:\n",
        "            raise ValueError(\"Цена батончика должна быть больше нуля!\")\n",
        "        self.price = price\n",
        "        self.additive = additive  # может быть None или строка (добавка)\n",
        "\n",
        "    def show_my_chocolate(self):\n",
        "        if self.additive:\n",
        "            print(f\"Шоколадный батончик, добавка: {self.additive}\")\n",
        "        else:\n",
        "            print(\"Обычный шоколадный батончик\")\n",
        "\n",
        "    def __str__(self):\n",
        "        return f\"Шоколадный батончик, {self.price} рублей\"\n",
        "\n",
        "\n",
        "# Пример использования:\n",
        "if __name__ == \"__main__\":\n",
        "    ch1 = Chocolate(50.0)\n",
        "    ch2 = Chocolate(75.5, \"карамель\")\n",
        "    ch3 = Chocolate(99.9, \"орехи\")\n",
        "\n",
        "    ch1.show_my_chocolate()\n",
        "    ch2.show_my_chocolate()\n",
        "    ch3.show_my_chocolate()\n",
        "\n",
        "    print(ch1)\n",
        "    print(ch2)\n",
        "    print(ch3)\n",
        "\n",
        "    # Пример, который вызовет ValueError:\n",
        "    # ch_invalid = Chocolate(-10)  # Раскомментируйте, чтобы увидеть ошибку\n"
      ]
    }
  ]
}